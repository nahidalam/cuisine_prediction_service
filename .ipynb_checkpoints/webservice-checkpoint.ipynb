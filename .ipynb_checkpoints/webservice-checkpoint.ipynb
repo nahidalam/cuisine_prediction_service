{
 "cells": [
  {
   "cell_type": "code",
   "execution_count": 2,
   "metadata": {},
   "outputs": [],
   "source": [
    "from flask import Flask, jsonify\n",
    "from flask import make_response\n",
    "from flask import abort\n",
    "from flask import request\n",
    "import os\n",
    "import sys\n",
    "import json, urllib\n",
    "from pprint import pprint\n",
    "import requests\n",
    "import pickle\n",
    "from sklearn import preprocessing\n",
    "import pandas as pd\n",
    "#from CONFIG import *\n",
    "\n",
    "app = Flask(__name__)"
   ]
  },
  {
   "cell_type": "code",
   "execution_count": null,
   "metadata": {},
   "outputs": [],
   "source": [
    "# read POST JSON\n",
    "@app.route('/')\n",
    "def index():\n",
    "    return \"Cuisine Prediction Service\"\n",
    "\n",
    "@app.route('/cuisine/api/v1.0/json',methods=['POST'])\n",
    "def getCuisine():\n",
    "    #create a json file test.json\n",
    "    \n",
    "@app.errorhandler(404)\n",
    "def not_found(error):\n",
    "    return make_response(jsonify({'error': 'Not found'}), 404)"
   ]
  },
  {
   "cell_type": "code",
   "execution_count": null,
   "metadata": {},
   "outputs": [],
   "source": [
    "# load the model\n",
    "filename = 'finalized_model.sav'\n",
    "loaded_model = pickle.load(open(filename, 'rb'))"
   ]
  },
  {
   "cell_type": "code",
   "execution_count": null,
   "metadata": {},
   "outputs": [],
   "source": [
    "# make string from list of string\n",
    "\n",
    "def makeString(listOfString):\n",
    "    return ' '.join(listOfString)"
   ]
  },
  {
   "cell_type": "code",
   "execution_count": null,
   "metadata": {},
   "outputs": [],
   "source": [
    "# work on the test set\n",
    "test = pd.read_json('./cuisine.test.json')\n",
    "\n",
    "\n",
    "# prepare the input for the model\n",
    "tfidf_vect = TfidfVectorizer(analyzer='word', token_pattern=r'\\w{1,}', max_features=5000)\n",
    "# train_transform = tfidf_vect.fit_transform(train['ingredients'].values)\n",
    "# '-'.join(sentence)\n",
    "test['ingredients'] = [str(map(makeString, x)) for x in test['ingredients']]\n",
    "test_transform = tfidf_vect.fit_transform(test['ingredients'].values)\n",
    "le = preprocessing.LabelEncoder()\n",
    "X_test = test_transform\n",
    "y_test = le.fit_transform(test['cuisine'].values)"
   ]
  },
  {
   "cell_type": "code",
   "execution_count": null,
   "metadata": {},
   "outputs": [],
   "source": [
    "predicted_labels = loaded_model.predict_proba(X_test)"
   ]
  }
 ],
 "metadata": {
  "kernelspec": {
   "display_name": "Python 3",
   "language": "python",
   "name": "python3"
  },
  "language_info": {
   "codemirror_mode": {
    "name": "ipython",
    "version": 3
   },
   "file_extension": ".py",
   "mimetype": "text/x-python",
   "name": "python",
   "nbconvert_exporter": "python",
   "pygments_lexer": "ipython3",
   "version": "3.5.2"
  }
 },
 "nbformat": 4,
 "nbformat_minor": 2
}
